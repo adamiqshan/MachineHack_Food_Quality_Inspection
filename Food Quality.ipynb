{
 "cells": [
  {
   "cell_type": "code",
   "execution_count": 1,
   "metadata": {},
   "outputs": [],
   "source": [
    "import numpy as np\n",
    "import pandas as pd\n",
    "import matplotlib.pyplot as plt\n",
    "import seaborn as sns\n",
    "import warnings\n",
    "warnings.filterwarnings('ignore')"
   ]
  },
  {
   "cell_type": "code",
   "execution_count": 180,
   "metadata": {},
   "outputs": [
    {
     "data": {
      "text/html": [
       "<div>\n",
       "<style scoped>\n",
       "    .dataframe tbody tr th:only-of-type {\n",
       "        vertical-align: middle;\n",
       "    }\n",
       "\n",
       "    .dataframe tbody tr th {\n",
       "        vertical-align: top;\n",
       "    }\n",
       "\n",
       "    .dataframe thead th {\n",
       "        text-align: right;\n",
       "    }\n",
       "</style>\n",
       "<table border=\"1\" class=\"dataframe\">\n",
       "  <thead>\n",
       "    <tr style=\"text-align: right;\">\n",
       "      <th></th>\n",
       "      <th>ID</th>\n",
       "      <th>Date</th>\n",
       "      <th>LicenseNo</th>\n",
       "      <th>FacilityID</th>\n",
       "      <th>FacilityName</th>\n",
       "      <th>Type</th>\n",
       "      <th>Street</th>\n",
       "      <th>City</th>\n",
       "      <th>State</th>\n",
       "      <th>LocationID</th>\n",
       "      <th>Reason</th>\n",
       "      <th>SectionViolations</th>\n",
       "      <th>RiskLevel</th>\n",
       "      <th>Geo_Loc</th>\n",
       "      <th>Inspection_Results</th>\n",
       "    </tr>\n",
       "  </thead>\n",
       "  <tbody>\n",
       "    <tr>\n",
       "      <th>0</th>\n",
       "      <td>31103489027986</td>\n",
       "      <td>26-04-2010</td>\n",
       "      <td>4744</td>\n",
       "      <td>8123</td>\n",
       "      <td>7715</td>\n",
       "      <td>RESTAURANT</td>\n",
       "      <td>15522</td>\n",
       "      <td>id-11235901</td>\n",
       "      <td>id_1890134</td>\n",
       "      <td>81876.0</td>\n",
       "      <td>CANVASS</td>\n",
       "      <td>33.0</td>\n",
       "      <td>High</td>\n",
       "      <td>locid16406</td>\n",
       "      <td>4</td>\n",
       "    </tr>\n",
       "    <tr>\n",
       "      <th>1</th>\n",
       "      <td>10088999935915</td>\n",
       "      <td>21-06-2009</td>\n",
       "      <td>2973</td>\n",
       "      <td>12268</td>\n",
       "      <td>11664</td>\n",
       "      <td>GROCERY STORE</td>\n",
       "      <td>3057</td>\n",
       "      <td>id-11235901</td>\n",
       "      <td>id_1890134</td>\n",
       "      <td>81862.0</td>\n",
       "      <td>COMPLAINT</td>\n",
       "      <td>33.0</td>\n",
       "      <td>High</td>\n",
       "      <td>locid878</td>\n",
       "      <td>4</td>\n",
       "    </tr>\n",
       "    <tr>\n",
       "      <th>2</th>\n",
       "      <td>40148966010272</td>\n",
       "      <td>01-05-2013</td>\n",
       "      <td>18223</td>\n",
       "      <td>1112</td>\n",
       "      <td>969</td>\n",
       "      <td>RESTAURANT</td>\n",
       "      <td>14988</td>\n",
       "      <td>id-11235901</td>\n",
       "      <td>id_1890134</td>\n",
       "      <td>81883.0</td>\n",
       "      <td>CANVASS</td>\n",
       "      <td>NaN</td>\n",
       "      <td>High</td>\n",
       "      <td>locid3368</td>\n",
       "      <td>6</td>\n",
       "    </tr>\n",
       "    <tr>\n",
       "      <th>3</th>\n",
       "      <td>37157708563676</td>\n",
       "      <td>28-09-2015</td>\n",
       "      <td>20825</td>\n",
       "      <td>20007</td>\n",
       "      <td>19115</td>\n",
       "      <td>RESTAURANT</td>\n",
       "      <td>3661</td>\n",
       "      <td>id-11235901</td>\n",
       "      <td>id_1890134</td>\n",
       "      <td>81859.0</td>\n",
       "      <td>CANVASS RE-INSPECTION</td>\n",
       "      <td>31.0</td>\n",
       "      <td>Medium</td>\n",
       "      <td>locid11839</td>\n",
       "      <td>4</td>\n",
       "    </tr>\n",
       "    <tr>\n",
       "      <th>4</th>\n",
       "      <td>47478049564374</td>\n",
       "      <td>09-12-2015</td>\n",
       "      <td>2136</td>\n",
       "      <td>16867</td>\n",
       "      <td>10409</td>\n",
       "      <td>RESTAURANT</td>\n",
       "      <td>7876</td>\n",
       "      <td>id-11235901</td>\n",
       "      <td>id_1890134</td>\n",
       "      <td>81886.0</td>\n",
       "      <td>COMPLAINT</td>\n",
       "      <td>30.0</td>\n",
       "      <td>High</td>\n",
       "      <td>locid12264</td>\n",
       "      <td>4</td>\n",
       "    </tr>\n",
       "  </tbody>\n",
       "</table>\n",
       "</div>"
      ],
      "text/plain": [
       "               ID        Date  LicenseNo  FacilityID  FacilityName  \\\n",
       "0  31103489027986  26-04-2010       4744        8123          7715   \n",
       "1  10088999935915  21-06-2009       2973       12268         11664   \n",
       "2  40148966010272  01-05-2013      18223        1112           969   \n",
       "3  37157708563676  28-09-2015      20825       20007         19115   \n",
       "4  47478049564374  09-12-2015       2136       16867         10409   \n",
       "\n",
       "            Type  Street         City       State  LocationID  \\\n",
       "0     RESTAURANT   15522  id-11235901  id_1890134     81876.0   \n",
       "1  GROCERY STORE    3057  id-11235901  id_1890134     81862.0   \n",
       "2     RESTAURANT   14988  id-11235901  id_1890134     81883.0   \n",
       "3     RESTAURANT    3661  id-11235901  id_1890134     81859.0   \n",
       "4     RESTAURANT    7876  id-11235901  id_1890134     81886.0   \n",
       "\n",
       "                  Reason  SectionViolations RiskLevel     Geo_Loc  \\\n",
       "0                CANVASS               33.0      High  locid16406   \n",
       "1              COMPLAINT               33.0      High    locid878   \n",
       "2                CANVASS                NaN      High   locid3368   \n",
       "3  CANVASS RE-INSPECTION               31.0    Medium  locid11839   \n",
       "4              COMPLAINT               30.0      High  locid12264   \n",
       "\n",
       "   Inspection_Results  \n",
       "0                   4  \n",
       "1                   4  \n",
       "2                   6  \n",
       "3                   4  \n",
       "4                   4  "
      ]
     },
     "execution_count": 180,
     "metadata": {},
     "output_type": "execute_result"
    }
   ],
   "source": [
    "train_data = pd.read_excel(r'C:\\Users\\Adam\\Desktop\\Food Quality\\data\\Data_Train.xlsx', sheet_name=0)\n",
    "test_data = pd.read_excel(r'C:\\Users\\Adam\\Desktop\\Food Quality\\data\\Data_Test.xlsx', sheet_name=0)\n",
    "\n",
    "train_data.head()"
   ]
  },
  {
   "cell_type": "code",
   "execution_count": 181,
   "metadata": {},
   "outputs": [],
   "source": [
    "train_data.columns = train_data.columns.str.lower()\n",
    "test_data.columns = test_data.columns.str.lower()"
   ]
  },
  {
   "cell_type": "code",
   "execution_count": 182,
   "metadata": {
    "scrolled": true
   },
   "outputs": [
    {
     "name": "stdout",
     "output_type": "stream",
     "text": [
      "<class 'pandas.core.frame.DataFrame'>\n",
      "RangeIndex: 147443 entries, 0 to 147442\n",
      "Data columns (total 15 columns):\n",
      "id                    147443 non-null int64\n",
      "date                  147443 non-null object\n",
      "licenseno             147443 non-null int64\n",
      "facilityid            147443 non-null int64\n",
      "facilityname          147443 non-null int64\n",
      "type                  143958 non-null object\n",
      "street                147443 non-null int64\n",
      "city                  147443 non-null object\n",
      "state                 147443 non-null object\n",
      "locationid            147408 non-null float64\n",
      "reason                147443 non-null object\n",
      "sectionviolations     108375 non-null float64\n",
      "risklevel             147443 non-null object\n",
      "geo_loc               147443 non-null object\n",
      "inspection_results    147443 non-null int64\n",
      "dtypes: float64(2), int64(6), object(7)\n",
      "memory usage: 16.9+ MB\n"
     ]
    }
   ],
   "source": [
    "train_data.info()"
   ]
  },
  {
   "cell_type": "code",
   "execution_count": 183,
   "metadata": {},
   "outputs": [
    {
     "name": "stdout",
     "output_type": "stream",
     "text": [
      "<class 'pandas.core.frame.DataFrame'>\n",
      "RangeIndex: 49148 entries, 0 to 49147\n",
      "Data columns (total 14 columns):\n",
      "id                   49148 non-null int64\n",
      "date                 49148 non-null object\n",
      "licenseno            49148 non-null int64\n",
      "facilityid           49148 non-null int64\n",
      "facilityname         49148 non-null int64\n",
      "type                 47933 non-null object\n",
      "street               49148 non-null int64\n",
      "city                 49148 non-null object\n",
      "state                49148 non-null object\n",
      "locationid           49133 non-null float64\n",
      "reason               49148 non-null object\n",
      "sectionviolations    36172 non-null float64\n",
      "risklevel            49148 non-null object\n",
      "geo_loc              49148 non-null object\n",
      "dtypes: float64(2), int64(5), object(7)\n",
      "memory usage: 5.2+ MB\n"
     ]
    }
   ],
   "source": [
    "test_data.info()"
   ]
  },
  {
   "cell_type": "code",
   "execution_count": 184,
   "metadata": {},
   "outputs": [
    {
     "data": {
      "text/plain": [
       "<matplotlib.axes._subplots.AxesSubplot at 0x1b5171b73c8>"
      ]
     },
     "execution_count": 184,
     "metadata": {},
     "output_type": "execute_result"
    },
    {
     "data": {
      "image/png": "[encoded data removed]",
      "text/plain": [
       "<Figure size 432x288 with 1 Axes>"
      ]
     },
     "metadata": {
      "needs_background": "light"
     },
     "output_type": "display_data"
    }
   ],
   "source": [
    "#classes are highly imbalanced, if trained a basic model it predicts class : 4 often\n",
    "train_data.inspection_results.value_counts().plot(kind='barh')"
   ]
  },
  {
   "cell_type": "code",
   "execution_count": 185,
   "metadata": {
    "scrolled": true
   },
   "outputs": [
    {
     "data": {
      "text/plain": [
       "OUT OF BUSINESS                           100.000000\n",
       "TASK FORCE LIQUOR 1475                     62.032086\n",
       "LICENSE RE-INSPECTION                      57.107122\n",
       "LICENSE-TASK FORCE                         50.900901\n",
       "SHORT FORM FIRE-COMPLAINT                  45.454545\n",
       "CONSULTATION                               39.960239\n",
       "LICENSE                                    38.421990\n",
       "COMPLAINT RE-INSPECTION                    28.558798\n",
       "CANVASS RE-INSPECTION                      27.863738\n",
       "RECENT INSPECTION                          27.016129\n",
       "SHORT FORM COMPLAINT                       26.737338\n",
       "SUSPECTED FOOD POISONING RE-INSPECTION     24.489796\n",
       "CANVASS                                    23.635221\n",
       "COMPLAINT-FIRE                             22.500000\n",
       "TAG REMOVAL                                18.421053\n",
       "COMPLAINT                                   6.100796\n",
       "SUSPECTED FOOD POISONING                    3.803487\n",
       "Name: reason, dtype: float64"
      ]
     },
     "execution_count": 185,
     "metadata": {},
     "output_type": "execute_result"
    }
   ],
   "source": [
    "(train_data[train_data['sectionviolations'].isnull()]['reason'].value_counts() / train_data.reason.value_counts() *100).sort_values(ascending=False)"
   ]
  },
  {
   "cell_type": "code",
   "execution_count": 186,
   "metadata": {
    "scrolled": false
   },
   "outputs": [
    {
     "name": "stdout",
     "output_type": "stream",
     "text": [
      "(147443, 14) (49148, 14)\n",
      "(196591, 14)\n",
      "<class 'pandas.core.frame.DataFrame'>\n",
      "RangeIndex: 196591 entries, 0 to 196590\n",
      "Data columns (total 14 columns):\n",
      "id                   196591 non-null int64\n",
      "date                 196591 non-null object\n",
      "licenseno            196591 non-null int64\n",
      "facilityid           196591 non-null int64\n",
      "facilityname         196591 non-null int64\n",
      "type                 191891 non-null object\n",
      "street               196591 non-null int64\n",
      "city                 196591 non-null object\n",
      "state                196591 non-null object\n",
      "locationid           196541 non-null float64\n",
      "reason               196591 non-null object\n",
      "sectionviolations    144547 non-null float64\n",
      "risklevel            196591 non-null object\n",
      "geo_loc              196591 non-null object\n",
      "dtypes: float64(2), int64(5), object(7)\n",
      "memory usage: 21.0+ MB\n"
     ]
    }
   ],
   "source": [
    "target = train_data['inspection_results']\n",
    "train_data.drop('inspection_results', inplace=True, axis='columns')\n",
    "df = pd.concat([train_data, test_data])\n",
    "df.reset_index(drop=True, inplace=True)\n",
    "print(train_data.shape, test_data.shape)\n",
    "print(df.shape)\n",
    "\n",
    "df.info()"
   ]
  },
  {
   "cell_type": "code",
   "execution_count": 187,
   "metadata": {},
   "outputs": [
    {
     "data": {
      "text/plain": [
       "52044"
      ]
     },
     "execution_count": 187,
     "metadata": {},
     "output_type": "execute_result"
    }
   ],
   "source": [
    "df.sectionviolations.isna().sum()"
   ]
  },
  {
   "cell_type": "code",
   "execution_count": 188,
   "metadata": {},
   "outputs": [
    {
     "data": {
      "text/plain": [
       "Index(['id', 'date', 'licenseno', 'facilityid', 'facilityname', 'type',\n",
       "       'street', 'city', 'state', 'locationid', 'reason', 'sectionviolations',\n",
       "       'risklevel', 'geo_loc'],\n",
       "      dtype='object')"
      ]
     },
     "execution_count": 188,
     "metadata": {},
     "output_type": "execute_result"
    }
   ],
   "source": [
    "df.columns"
   ]
  },
  {
   "cell_type": "code",
   "execution_count": 189,
   "metadata": {
    "scrolled": true
   },
   "outputs": [
    {
     "data": {
      "text/plain": [
       "Int64Index([  2834,   6570,   7261,   7815,   8692,  13420,  14111,  15852,\n",
       "             16863,  18142,  18718,  20404,  21508,  22842,  23156,  25600,\n",
       "             27449,  27743,  30111,  31073,  32432,  32684,  39759,  51472,\n",
       "             53176,  58745,  59324,  61684,  64756,  69182,  79586,  80721,\n",
       "             87722,  88214,  89500,  89562,  90628,  94914,  95406,  96158,\n",
       "             98453, 104610, 107436, 121265, 121613, 122555, 127802, 129554,\n",
       "            131443, 133795, 137301, 139874, 140149, 150658, 150898, 162429,\n",
       "            165183, 168862, 169011, 173694, 184351, 185265, 185725, 189627,\n",
       "            190164, 193171, 193461, 196208],\n",
       "           dtype='int64')"
      ]
     },
     "execution_count": 189,
     "metadata": {},
     "output_type": "execute_result"
    }
   ],
   "source": [
    "df[pd.to_datetime(df.date, format = '%d-%m-%Y', errors='coerce').isna()].index"
   ]
  },
  {
   "cell_type": "code",
   "execution_count": 190,
   "metadata": {
    "scrolled": true
   },
   "outputs": [],
   "source": [
    "indexes = df.loc[pd.to_datetime(df.date, format = '%d-%m-%Y', errors='coerce').isna()].index\n",
    "for i in indexes:\n",
    "    df.iloc[i,1] = df.iloc[i,1].replace('29-02','01-03')"
   ]
  },
  {
   "cell_type": "code",
   "execution_count": 191,
   "metadata": {},
   "outputs": [],
   "source": [
    "df['date'] = pd.to_datetime(df.date, format='%d-%m-%Y')\n",
    "\n",
    "df['year'] = df.date.dt.year\n",
    "df['month'] = df.date.dt.month\n",
    "df['day'] = df.date.dt.day"
   ]
  },
  {
   "cell_type": "code",
   "execution_count": 192,
   "metadata": {},
   "outputs": [],
   "source": [
    "df['type'] = df.groupby('facilityname')['type'].ffill()\n",
    "df['type'] = df.groupby('facilityname')['type'].bfill()\n",
    "\n",
    "df['type'] = df.type.fillna(\"UNKOWN\")"
   ]
  },
  {
   "cell_type": "code",
   "execution_count": 193,
   "metadata": {},
   "outputs": [],
   "source": [
    "df.loc[(df.type.str.lower().str.contains('care')) | (df.type.str.lower().str.contains('livi')),'type'] = 'CARE CENTERS'\n",
    "df.loc[df.type.str.lower().str.contains('mobil'), 'type'] = 'MOBILE FOOD VENDOR'\n",
    "df.loc[df.type.str.lower().str.contains('hospital'), 'type'] = 'HOSPITAL'\n",
    "df.loc[df.type.str.lower().str.contains('banquet'), 'type'] = 'BANQUET'\n",
    "df.loc[(df.type.str.lower().str.contains('rest')) | (df.type.str.lower().str.contains('roof')), 'type'] = 'RESTAURANT'\n",
    "df.loc[(df.type.str.lower().str.contains('cafe')) | (df.type.str.lower().str.contains('coffee')), 'type'] = 'CAFE'\n",
    "df.loc[(df.type.str.lower().str.contains('liq')) | (df.type.str.lower().str.contains('bar')) , 'type'] = 'BAR'\n",
    "df.loc[(df.type.str.lower().str.contains('kiosk'))|(df.type.str.lower().str.contains('froze'))\n",
    "       | (df.type.str.lower().str.contains('food')), 'type'] = 'FOOD VENDING MACHINES'\n",
    "df.loc[df.type.str.lower().str.contains('gas'), 'type'] = 'GAS STATION'\n",
    "df.loc[df.type.str.lower().str.contains('grocery'), 'type'] = 'GROCERY'\n",
    "df.loc[df.type.str.lower().str.contains('school'), 'type'] = 'SCHOOL'\n",
    "df.loc[df.type.str.lower().str.contains('kitch'), 'type'] = 'SHARED KITCHEN'\n",
    "df.loc[df.type.str.lower().str.contains('conv'), 'type'] = 'CONVENIENCE STORES'\n",
    "df.loc[df.type.str.lower().str.contains('prof'), 'type'] = 'NON PROFITS'\n",
    "df.loc[df.type.str.lower().str.contains('theat'), 'type'] = 'THEATER'\n",
    "df.loc[df.type.str.lower().str.contains('poul'), 'type'] = 'POULTRY'\n",
    "\n",
    "lst = ['RESTAURANT', 'GROCERY', 'SCHOOL', 'CARE CENTERS', 'UNKOWN', 'BAKERY', \n",
    "       'FOOD VENDING MACHINES', 'CATERING', 'BAR', 'HOSPITAL', 'GOLDEN DINER', \n",
    "       'WHOLESALE', 'SHARED KITCHEN', 'BANQUET', 'TAVERN', 'GAS STATION', 'SPECIAL EVENT', \n",
    "       'CAFE', 'CONVENIENCE STORES', 'POULTRY', 'SHELTER', 'THEATER', 'STADIUM', 'STORE', \n",
    "       'ICE CREAM SHOP']\n",
    "df.loc[~df.type.isin(lst),'type'] = 'OTHER OUTLETS'"
   ]
  },
  {
   "cell_type": "code",
   "execution_count": 194,
   "metadata": {},
   "outputs": [],
   "source": [
    "df['city'] = df.city.str.replace(r'[^0-9]','').astype('int')\n",
    "df['state'] = df.state.str.replace(r'[^0-9]','').astype('int')\n",
    "\n",
    "df['geo_loc'] = df.geo_loc.str.replace(r'[a-zA-Z]','').astype('int')"
   ]
  },
  {
   "cell_type": "code",
   "execution_count": 195,
   "metadata": {
    "scrolled": true
   },
   "outputs": [],
   "source": [
    "#df['sectionviolations'].fillna(df.groupby('facilityname')['sectionviolations'].agg(pd.Series.mode),\n",
    "                                                        #inplace=True)\n",
    "#df['sectionviolations'].fillna(df.groupby('reason')['sectionviolations'].agg(pd.Series.mode),\n",
    "                                                        #inplace=True)"
   ]
  },
  {
   "cell_type": "code",
   "execution_count": 196,
   "metadata": {},
   "outputs": [],
   "source": [
    "#can we impute sectionviolations with mode value of reasons column? \n",
    "#plt.figure(figsize=(20,15))\n",
    "#plt.xticks(rotation=45)\n",
    "#sns.boxplot(x='reason', y='sectionviolations', data=df)"
   ]
  },
  {
   "cell_type": "code",
   "execution_count": 197,
   "metadata": {
    "scrolled": true
   },
   "outputs": [
    {
     "data": {
      "text/plain": [
       "High         140974\n",
       "Medium        38282\n",
       "Low           16970\n",
       "Uncertain        31\n",
       "Name: risklevel, dtype: int64"
      ]
     },
     "execution_count": 197,
     "metadata": {},
     "output_type": "execute_result"
    }
   ],
   "source": [
    "df[df.city==11235901]['risklevel'].value_counts()"
   ]
  },
  {
   "cell_type": "code",
   "execution_count": 198,
   "metadata": {
    "scrolled": true
   },
   "outputs": [
    {
     "data": {
      "text/plain": [
       "High         105759\n",
       "Medium        24766\n",
       "Low            1631\n",
       "Uncertain        14\n",
       "Name: risklevel, dtype: int64"
      ]
     },
     "execution_count": 198,
     "metadata": {},
     "output_type": "execute_result"
    }
   ],
   "source": [
    "df[df.type == 'RESTAURANT']['risklevel'].value_counts()"
   ]
  },
  {
   "cell_type": "code",
   "execution_count": 199,
   "metadata": {
    "scrolled": true
   },
   "outputs": [],
   "source": [
    "df.loc[df.risklevel == 'Uncertain', 'risklevel'] = 'High'"
   ]
  },
  {
   "cell_type": "code",
   "execution_count": 200,
   "metadata": {},
   "outputs": [
    {
     "data": {
      "text/plain": [
       "array(['High', 'Medium', 'Low'], dtype=object)"
      ]
     },
     "execution_count": 200,
     "metadata": {},
     "output_type": "execute_result"
    }
   ],
   "source": [
    "df.risklevel.unique()"
   ]
  },
  {
   "cell_type": "code",
   "execution_count": 201,
   "metadata": {},
   "outputs": [],
   "source": [
    "risk_map = {'High':3, 'Medium':2, 'Low':1}\n",
    "df['risklevel'] = df.risklevel.map(risk_map)"
   ]
  },
  {
   "cell_type": "code",
   "execution_count": 202,
   "metadata": {},
   "outputs": [],
   "source": [
    "df['locationid'] = df.locationid.fillna(df.groupby('geo_loc')['locationid'].transform('max'))\n",
    "df['locationid'] = df.locationid.fillna(df.groupby('city')['locationid'].transform('median'))\n",
    "\n",
    "df['locationid'] = df.locationid.astype('int')"
   ]
  },
  {
   "cell_type": "code",
   "execution_count": 203,
   "metadata": {},
   "outputs": [],
   "source": [
    "from sklearn.preprocessing import LabelEncoder\n",
    "lencoder = LabelEncoder()\n",
    "\n",
    "df[['type','reason']] = df[['type','reason']].apply(lencoder.fit_transform)"
   ]
  },
  {
   "cell_type": "code",
   "execution_count": 207,
   "metadata": {},
   "outputs": [
    {
     "name": "stdout",
     "output_type": "stream",
     "text": [
      "<class 'pandas.core.frame.DataFrame'>\n",
      "RangeIndex: 196591 entries, 0 to 196590\n",
      "Data columns (total 14 columns):\n",
      "year            196591 non-null int64\n",
      "month           196591 non-null int64\n",
      "day             196591 non-null int64\n",
      "licenseno       196591 non-null int64\n",
      "facilityid      196591 non-null int64\n",
      "facilityname    196591 non-null int64\n",
      "type            196591 non-null int32\n",
      "street          196591 non-null int64\n",
      "city            196591 non-null int32\n",
      "state           196591 non-null int32\n",
      "locationid      196591 non-null int32\n",
      "reason          196591 non-null int32\n",
      "risklevel       196591 non-null int64\n",
      "geo_loc         196591 non-null int32\n",
      "dtypes: int32(6), int64(8)\n",
      "memory usage: 16.5 MB\n"
     ]
    }
   ],
   "source": [
    "df = df[['year', 'month', 'day', 'licenseno', 'facilityid', 'facilityname',\n",
    "       'type', 'street', 'city', 'state', 'locationid', 'reason', 'risklevel',\n",
    "       'geo_loc']]\n",
    "\n",
    "df.info()"
   ]
  },
  {
   "cell_type": "code",
   "execution_count": 208,
   "metadata": {},
   "outputs": [],
   "source": [
    "train, test = df.iloc[:train_data.shape[0],:], df.iloc[train_data.shape[0]:,:]\n",
    "test.reset_index(drop=True, inplace=True)"
   ]
  },
  {
   "cell_type": "code",
   "execution_count": 210,
   "metadata": {},
   "outputs": [],
   "source": [
    "X = train[['year', 'month', 'day', 'licenseno', 'facilityid', 'facilityname',\n",
    "       'type', 'street', 'city', 'state', 'locationid', 'reason', 'risklevel',\n",
    "       'geo_loc']]\n",
    "y = target"
   ]
  },
  {
   "cell_type": "code",
   "execution_count": 211,
   "metadata": {
    "scrolled": true
   },
   "outputs": [
    {
     "data": {
      "text/plain": [
       "XGBClassifier(base_score=0.5, booster='gbtree', colsample_bylevel=1,\n",
       "              colsample_bynode=1, colsample_bytree=1, gamma=0,\n",
       "              learning_rate=0.1, max_delta_step=0, max_depth=3,\n",
       "              min_child_weight=1, missing=None, n_estimators=100, n_jobs=-1,\n",
       "              nthread=None, objective='multi:softprob', random_state=0,\n",
       "              reg_alpha=0, reg_lambda=1, scale_pos_weight=1, seed=None,\n",
       "              silent=None, subsample=1, verbosity=1)"
      ]
     },
     "execution_count": 211,
     "metadata": {},
     "output_type": "execute_result"
    }
   ],
   "source": [
    "from sklearn.model_selection import train_test_split\n",
    "import xgboost as xgb\n",
    "\n",
    "X_train, X_test, y_train, y_test = train_test_split(X, y, test_size=0.3)\n",
    "\n",
    "xgb = xgb.XGBClassifier(n_jobs=-1)\n",
    "\n",
    "xgb.fit(X_train, y_train)"
   ]
  },
  {
   "cell_type": "code",
   "execution_count": 212,
   "metadata": {
    "scrolled": true
   },
   "outputs": [
    {
     "name": "stdout",
     "output_type": "stream",
     "text": [
      "accuracy is: 0.5969072864151199\n",
      "[[    0     2     0     0     6     3     0]\n",
      " [    0   624     2     0  6983   835    90]\n",
      " [    0    43     6     0   270   104     0]\n",
      " [    0    11     1     0  1105   268    18]\n",
      " [    0   329     1     0 22508   809   169]\n",
      " [    0   113     2     0  3844  2242    27]\n",
      " [    0     2     0     0  2457   336  1023]]\n"
     ]
    }
   ],
   "source": [
    "from sklearn.metrics import accuracy_score, confusion_matrix\n",
    "\n",
    "xgb_pred = xgb.predict(X_test)\n",
    "\n",
    "print(\"accuracy is:\",accuracy_score(y_test, xgb_pred))\n",
    "print(confusion_matrix(y_test, xgb_pred))"
   ]
  },
  {
   "cell_type": "code",
   "execution_count": 220,
   "metadata": {},
   "outputs": [
    {
     "data": {
      "text/plain": [
       "array([0, 1, 2, 4, 5, 6], dtype=int64)"
      ]
     },
     "execution_count": 220,
     "metadata": {},
     "output_type": "execute_result"
    }
   ],
   "source": [
    "y_pred = xgb.predict(test)\n",
    "np.unique(y_pred)"
   ]
  },
  {
   "cell_type": "code",
   "execution_count": 223,
   "metadata": {},
   "outputs": [
    {
     "data": {
      "text/html": [
       "<div>\n",
       "<style scoped>\n",
       "    .dataframe tbody tr th:only-of-type {\n",
       "        vertical-align: middle;\n",
       "    }\n",
       "\n",
       "    .dataframe tbody tr th {\n",
       "        vertical-align: top;\n",
       "    }\n",
       "\n",
       "    .dataframe thead th {\n",
       "        text-align: right;\n",
       "    }\n",
       "</style>\n",
       "<table border=\"1\" class=\"dataframe\">\n",
       "  <thead>\n",
       "    <tr style=\"text-align: right;\">\n",
       "      <th></th>\n",
       "      <th>FACILITY CHANGED</th>\n",
       "      <th>FAIL</th>\n",
       "      <th>FURTHER INSPECTION REQUIRED</th>\n",
       "      <th>INSPECTION OVERRULED</th>\n",
       "      <th>PASS</th>\n",
       "      <th>PASS(CONDITIONAL)</th>\n",
       "      <th>SHUT-DOWN</th>\n",
       "    </tr>\n",
       "  </thead>\n",
       "  <tbody>\n",
       "    <tr>\n",
       "      <th>0</th>\n",
       "      <td>0</td>\n",
       "      <td>0</td>\n",
       "      <td>0</td>\n",
       "      <td>0</td>\n",
       "      <td>0</td>\n",
       "      <td>0</td>\n",
       "      <td>1</td>\n",
       "    </tr>\n",
       "    <tr>\n",
       "      <th>1</th>\n",
       "      <td>0</td>\n",
       "      <td>0</td>\n",
       "      <td>0</td>\n",
       "      <td>0</td>\n",
       "      <td>1</td>\n",
       "      <td>0</td>\n",
       "      <td>0</td>\n",
       "    </tr>\n",
       "    <tr>\n",
       "      <th>2</th>\n",
       "      <td>0</td>\n",
       "      <td>0</td>\n",
       "      <td>0</td>\n",
       "      <td>0</td>\n",
       "      <td>1</td>\n",
       "      <td>0</td>\n",
       "      <td>0</td>\n",
       "    </tr>\n",
       "    <tr>\n",
       "      <th>3</th>\n",
       "      <td>0</td>\n",
       "      <td>0</td>\n",
       "      <td>0</td>\n",
       "      <td>0</td>\n",
       "      <td>1</td>\n",
       "      <td>0</td>\n",
       "      <td>0</td>\n",
       "    </tr>\n",
       "    <tr>\n",
       "      <th>4</th>\n",
       "      <td>0</td>\n",
       "      <td>0</td>\n",
       "      <td>0</td>\n",
       "      <td>0</td>\n",
       "      <td>1</td>\n",
       "      <td>0</td>\n",
       "      <td>0</td>\n",
       "    </tr>\n",
       "    <tr>\n",
       "      <th>...</th>\n",
       "      <td>...</td>\n",
       "      <td>...</td>\n",
       "      <td>...</td>\n",
       "      <td>...</td>\n",
       "      <td>...</td>\n",
       "      <td>...</td>\n",
       "      <td>...</td>\n",
       "    </tr>\n",
       "    <tr>\n",
       "      <th>49143</th>\n",
       "      <td>0</td>\n",
       "      <td>0</td>\n",
       "      <td>0</td>\n",
       "      <td>0</td>\n",
       "      <td>0</td>\n",
       "      <td>0</td>\n",
       "      <td>1</td>\n",
       "    </tr>\n",
       "    <tr>\n",
       "      <th>49144</th>\n",
       "      <td>0</td>\n",
       "      <td>0</td>\n",
       "      <td>0</td>\n",
       "      <td>0</td>\n",
       "      <td>1</td>\n",
       "      <td>0</td>\n",
       "      <td>0</td>\n",
       "    </tr>\n",
       "    <tr>\n",
       "      <th>49145</th>\n",
       "      <td>0</td>\n",
       "      <td>0</td>\n",
       "      <td>0</td>\n",
       "      <td>0</td>\n",
       "      <td>1</td>\n",
       "      <td>0</td>\n",
       "      <td>0</td>\n",
       "    </tr>\n",
       "    <tr>\n",
       "      <th>49146</th>\n",
       "      <td>0</td>\n",
       "      <td>0</td>\n",
       "      <td>0</td>\n",
       "      <td>0</td>\n",
       "      <td>0</td>\n",
       "      <td>1</td>\n",
       "      <td>0</td>\n",
       "    </tr>\n",
       "    <tr>\n",
       "      <th>49147</th>\n",
       "      <td>0</td>\n",
       "      <td>0</td>\n",
       "      <td>0</td>\n",
       "      <td>0</td>\n",
       "      <td>1</td>\n",
       "      <td>0</td>\n",
       "      <td>0</td>\n",
       "    </tr>\n",
       "  </tbody>\n",
       "</table>\n",
       "<p>49148 rows × 7 columns</p>\n",
       "</div>"
      ],
      "text/plain": [
       "       FACILITY CHANGED  FAIL  FURTHER INSPECTION REQUIRED  \\\n",
       "0                     0     0                            0   \n",
       "1                     0     0                            0   \n",
       "2                     0     0                            0   \n",
       "3                     0     0                            0   \n",
       "4                     0     0                            0   \n",
       "...                 ...   ...                          ...   \n",
       "49143                 0     0                            0   \n",
       "49144                 0     0                            0   \n",
       "49145                 0     0                            0   \n",
       "49146                 0     0                            0   \n",
       "49147                 0     0                            0   \n",
       "\n",
       "       INSPECTION OVERRULED  PASS  PASS(CONDITIONAL)  SHUT-DOWN  \n",
       "0                         0     0                  0          1  \n",
       "1                         0     1                  0          0  \n",
       "2                         0     1                  0          0  \n",
       "3                         0     1                  0          0  \n",
       "4                         0     1                  0          0  \n",
       "...                     ...   ...                ...        ...  \n",
       "49143                     0     0                  0          1  \n",
       "49144                     0     1                  0          0  \n",
       "49145                     0     1                  0          0  \n",
       "49146                     0     0                  1          0  \n",
       "49147                     0     1                  0          0  \n",
       "\n",
       "[49148 rows x 7 columns]"
      ]
     },
     "execution_count": 223,
     "metadata": {},
     "output_type": "execute_result"
    }
   ],
   "source": [
    "y_pred = xgb.predict(test)\n",
    "\n",
    "xgb_predictions = pd.get_dummies(y_pred)\n",
    "xgb_predictions.columns = ['FACILITY CHANGED', 'FAIL', 'FURTHER INSPECTION REQUIRED',\n",
    "                       'PASS', 'PASS(CONDITIONAL)', 'SHUT-DOWN']\n",
    "xgb_predictions.insert(loc=3,column='INSPECTION OVERRULED', value=0*len(xgb_predictions))\n",
    "xgb_predictions.to_excel('xgb.xlsx',index=False)\n",
    "xgb_predictions"
   ]
  },
  {
   "cell_type": "code",
   "execution_count": 114,
   "metadata": {
    "scrolled": false
   },
   "outputs": [],
   "source": [
    "from sklearn.preprocessing import StandardScaler\n",
    "scaler = StandardScaler()\n",
    "\n",
    "scaled_train = scaler.fit_transform(train[['year', 'month', 'day', 'licenseno', 'facilityid', 'facilityname',\n",
    "       'type', 'street', 'city', 'state', 'locationid', 'reason', 'risklevel',\n",
    "       'geo_loc']].to_numpy())\n",
    "scaled_train = pd.DataFrame(scaled_train.tolist(), columns=['year', 'month', 'day', 'licenseno', 'facilityid', 'facilityname',\n",
    "       'type', 'street', 'city', 'state', 'locationid', 'reason', 'risklevel',\n",
    "       'geo_loc'])"
   ]
  },
  {
   "cell_type": "code",
   "execution_count": 120,
   "metadata": {},
   "outputs": [],
   "source": [
    "scaled_test = scaler.transform(test[['year', 'month', 'day', 'licenseno', 'facilityid', 'facilityname',\n",
    "       'type', 'street', 'city', 'state', 'locationid', 'reason', 'risklevel',\n",
    "       'geo_loc']])\n",
    "scaled_test = pd.DataFrame(scaled_test.tolist(), columns=['year', 'month', 'day', 'licenseno', 'facilityid', 'facilityname',\n",
    "       'type', 'street', 'city', 'state', 'locationid', 'reason', 'risklevel',\n",
    "       'geo_loc'])"
   ]
  },
  {
   "cell_type": "code",
   "execution_count": 116,
   "metadata": {},
   "outputs": [
    {
     "name": "stdout",
     "output_type": "stream",
     "text": [
      "accuracy is: 0.4926864558135329\n",
      "[[    0     2     0     0     8     0     1]\n",
      " [    0  1805    43   111  5853   562   201]\n",
      " [    0   114    46     1   224    32     1]\n",
      " [    0   262     7    90   873   158    66]\n",
      " [    0  4128   116   283 17849  1049   510]\n",
      " [    0  1104    47   124  3759   952   128]\n",
      " [    1   498     0    58  1901   215  1051]]\n"
     ]
    }
   ],
   "source": [
    "from sklearn.neighbors import KNeighborsClassifier\n",
    "\n",
    "X = scaled_train[['year', 'month', 'day', 'licenseno', 'facilityid', 'facilityname',\n",
    "       'type', 'street', 'city', 'state', 'locationid', 'reason', 'risklevel',\n",
    "       'geo_loc']]\n",
    "y = target\n",
    "\n",
    "X_train, X_test, y_train, y_test = train_test_split(X, y, test_size=0.3)\n",
    "\n",
    "clf = KNeighborsClassifier()\n",
    "\n",
    "clf.fit(X_train, y_train)\n",
    "y_pred = clf.predict(X_test)\n",
    "\n",
    "print(\"accuracy is:\",accuracy_score(y_test, y_pred))\n",
    "print(confusion_matrix(y_test, y_pred))"
   ]
  },
  {
   "cell_type": "code",
   "execution_count": 121,
   "metadata": {},
   "outputs": [
    {
     "data": {
      "text/plain": [
       "array([6, 4, 4, ..., 4, 5, 4], dtype=int64)"
      ]
     },
     "execution_count": 121,
     "metadata": {},
     "output_type": "execute_result"
    }
   ],
   "source": [
    "y_pred = clf.predict(scaled_test)\n",
    "y_pred"
   ]
  },
  {
   "cell_type": "code",
   "execution_count": 133,
   "metadata": {},
   "outputs": [
    {
     "data": {
      "text/html": [
       "<div>\n",
       "<style scoped>\n",
       "    .dataframe tbody tr th:only-of-type {\n",
       "        vertical-align: middle;\n",
       "    }\n",
       "\n",
       "    .dataframe tbody tr th {\n",
       "        vertical-align: top;\n",
       "    }\n",
       "\n",
       "    .dataframe thead th {\n",
       "        text-align: right;\n",
       "    }\n",
       "</style>\n",
       "<table border=\"1\" class=\"dataframe\">\n",
       "  <thead>\n",
       "    <tr style=\"text-align: right;\">\n",
       "      <th></th>\n",
       "      <th>FACILITY CHANGED</th>\n",
       "      <th>FAIL</th>\n",
       "      <th>FURTHER INSPECTION REQUIRED</th>\n",
       "      <th>INSPECTION OVERRULED</th>\n",
       "      <th>PASS</th>\n",
       "      <th>PASS(CONDITIONAL)</th>\n",
       "      <th>SHUT-DOWN</th>\n",
       "    </tr>\n",
       "  </thead>\n",
       "  <tbody>\n",
       "    <tr>\n",
       "      <th>0</th>\n",
       "      <td>0</td>\n",
       "      <td>0</td>\n",
       "      <td>0</td>\n",
       "      <td>0</td>\n",
       "      <td>0</td>\n",
       "      <td>0</td>\n",
       "      <td>1</td>\n",
       "    </tr>\n",
       "    <tr>\n",
       "      <th>1</th>\n",
       "      <td>0</td>\n",
       "      <td>0</td>\n",
       "      <td>0</td>\n",
       "      <td>0</td>\n",
       "      <td>1</td>\n",
       "      <td>0</td>\n",
       "      <td>0</td>\n",
       "    </tr>\n",
       "    <tr>\n",
       "      <th>2</th>\n",
       "      <td>0</td>\n",
       "      <td>0</td>\n",
       "      <td>0</td>\n",
       "      <td>0</td>\n",
       "      <td>1</td>\n",
       "      <td>0</td>\n",
       "      <td>0</td>\n",
       "    </tr>\n",
       "    <tr>\n",
       "      <th>3</th>\n",
       "      <td>0</td>\n",
       "      <td>0</td>\n",
       "      <td>0</td>\n",
       "      <td>0</td>\n",
       "      <td>1</td>\n",
       "      <td>0</td>\n",
       "      <td>0</td>\n",
       "    </tr>\n",
       "    <tr>\n",
       "      <th>4</th>\n",
       "      <td>0</td>\n",
       "      <td>0</td>\n",
       "      <td>0</td>\n",
       "      <td>0</td>\n",
       "      <td>1</td>\n",
       "      <td>0</td>\n",
       "      <td>0</td>\n",
       "    </tr>\n",
       "    <tr>\n",
       "      <th>...</th>\n",
       "      <td>...</td>\n",
       "      <td>...</td>\n",
       "      <td>...</td>\n",
       "      <td>...</td>\n",
       "      <td>...</td>\n",
       "      <td>...</td>\n",
       "      <td>...</td>\n",
       "    </tr>\n",
       "    <tr>\n",
       "      <th>49143</th>\n",
       "      <td>0</td>\n",
       "      <td>0</td>\n",
       "      <td>0</td>\n",
       "      <td>0</td>\n",
       "      <td>0</td>\n",
       "      <td>0</td>\n",
       "      <td>1</td>\n",
       "    </tr>\n",
       "    <tr>\n",
       "      <th>49144</th>\n",
       "      <td>0</td>\n",
       "      <td>0</td>\n",
       "      <td>0</td>\n",
       "      <td>0</td>\n",
       "      <td>1</td>\n",
       "      <td>0</td>\n",
       "      <td>0</td>\n",
       "    </tr>\n",
       "    <tr>\n",
       "      <th>49145</th>\n",
       "      <td>0</td>\n",
       "      <td>0</td>\n",
       "      <td>0</td>\n",
       "      <td>0</td>\n",
       "      <td>1</td>\n",
       "      <td>0</td>\n",
       "      <td>0</td>\n",
       "    </tr>\n",
       "    <tr>\n",
       "      <th>49146</th>\n",
       "      <td>0</td>\n",
       "      <td>0</td>\n",
       "      <td>0</td>\n",
       "      <td>0</td>\n",
       "      <td>0</td>\n",
       "      <td>1</td>\n",
       "      <td>0</td>\n",
       "    </tr>\n",
       "    <tr>\n",
       "      <th>49147</th>\n",
       "      <td>0</td>\n",
       "      <td>0</td>\n",
       "      <td>0</td>\n",
       "      <td>0</td>\n",
       "      <td>1</td>\n",
       "      <td>0</td>\n",
       "      <td>0</td>\n",
       "    </tr>\n",
       "  </tbody>\n",
       "</table>\n",
       "<p>49148 rows × 7 columns</p>\n",
       "</div>"
      ],
      "text/plain": [
       "       FACILITY CHANGED  FAIL  FURTHER INSPECTION REQUIRED  \\\n",
       "0                     0     0                            0   \n",
       "1                     0     0                            0   \n",
       "2                     0     0                            0   \n",
       "3                     0     0                            0   \n",
       "4                     0     0                            0   \n",
       "...                 ...   ...                          ...   \n",
       "49143                 0     0                            0   \n",
       "49144                 0     0                            0   \n",
       "49145                 0     0                            0   \n",
       "49146                 0     0                            0   \n",
       "49147                 0     0                            0   \n",
       "\n",
       "       INSPECTION OVERRULED  PASS  PASS(CONDITIONAL)  SHUT-DOWN  \n",
       "0                         0     0                  0          1  \n",
       "1                         0     1                  0          0  \n",
       "2                         0     1                  0          0  \n",
       "3                         0     1                  0          0  \n",
       "4                         0     1                  0          0  \n",
       "...                     ...   ...                ...        ...  \n",
       "49143                     0     0                  0          1  \n",
       "49144                     0     1                  0          0  \n",
       "49145                     0     1                  0          0  \n",
       "49146                     0     0                  1          0  \n",
       "49147                     0     1                  0          0  \n",
       "\n",
       "[49148 rows x 7 columns]"
      ]
     },
     "execution_count": 133,
     "metadata": {},
     "output_type": "execute_result"
    }
   ],
   "source": [
    "predictions = pd.get_dummies(y_pred)\n",
    "predictions.columns = ['FACILITY CHANGED', 'FAIL', 'FURTHER INSPECTION REQUIRED',\n",
    "                       'INSPECTION OVERRULED', 'PASS', 'PASS(CONDITIONAL)', 'SHUT-DOWN']\n",
    "predictions"
   ]
  },
  {
   "cell_type": "code",
   "execution_count": 134,
   "metadata": {},
   "outputs": [],
   "source": [
    "predictions.to_excel('knn.xlsx')"
   ]
  }
 ],
 "metadata": {
  "kernelspec": {
   "display_name": "Python 3",
   "language": "python",
   "name": "python3"
  },
  "language_info": {
   "codemirror_mode": {
    "name": "ipython",
    "version": 3
   },
   "file_extension": ".py",
   "mimetype": "text/x-python",
   "name": "python",
   "nbconvert_exporter": "python",
   "pygments_lexer": "ipython3",
   "version": "3.7.3"
  }
 },
 "nbformat": 4,
 "nbformat_minor": 2
}
