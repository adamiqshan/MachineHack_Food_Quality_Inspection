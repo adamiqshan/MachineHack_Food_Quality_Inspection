{
 "cells": [
  {
   "cell_type": "code",
   "execution_count": 1,
   "metadata": {},
   "outputs": [],
   "source": [
    "import numpy as np\n",
    "import pandas as pd\n",
    "import matplotlib.pyplot as plt\n",
    "import seaborn as sns\n",
    "import warnings\n",
    "warnings.filterwarnings('ignore')"
   ]
  },
  {
   "cell_type": "code",
   "execution_count": 2,
   "metadata": {},
   "outputs": [
    {
     "data": {
      "text/html": [
       "<div>\n",
       "<style scoped>\n",
       "    .dataframe tbody tr th:only-of-type {\n",
       "        vertical-align: middle;\n",
       "    }\n",
       "\n",
       "    .dataframe tbody tr th {\n",
       "        vertical-align: top;\n",
       "    }\n",
       "\n",
       "    .dataframe thead th {\n",
       "        text-align: right;\n",
       "    }\n",
       "</style>\n",
       "<table border=\"1\" class=\"dataframe\">\n",
       "  <thead>\n",
       "    <tr style=\"text-align: right;\">\n",
       "      <th></th>\n",
       "      <th>ID</th>\n",
       "      <th>Date</th>\n",
       "      <th>LicenseNo</th>\n",
       "      <th>FacilityID</th>\n",
       "      <th>FacilityName</th>\n",
       "      <th>Type</th>\n",
       "      <th>Street</th>\n",
       "      <th>City</th>\n",
       "      <th>State</th>\n",
       "      <th>LocationID</th>\n",
       "      <th>Reason</th>\n",
       "      <th>SectionViolations</th>\n",
       "      <th>RiskLevel</th>\n",
       "      <th>Geo_Loc</th>\n",
       "      <th>Inspection_Results</th>\n",
       "    </tr>\n",
       "  </thead>\n",
       "  <tbody>\n",
       "    <tr>\n",
       "      <th>0</th>\n",
       "      <td>31103489027986</td>\n",
       "      <td>26-04-2010</td>\n",
       "      <td>4744</td>\n",
       "      <td>8123</td>\n",
       "      <td>7715</td>\n",
       "      <td>RESTAURANT</td>\n",
       "      <td>15522</td>\n",
       "      <td>id-11235901</td>\n",
       "      <td>id_1890134</td>\n",
       "      <td>81876.0</td>\n",
       "      <td>CANVASS</td>\n",
       "      <td>33.0</td>\n",
       "      <td>High</td>\n",
       "      <td>locid16406</td>\n",
       "      <td>4</td>\n",
       "    </tr>\n",
       "    <tr>\n",
       "      <th>1</th>\n",
       "      <td>10088999935915</td>\n",
       "      <td>21-06-2009</td>\n",
       "      <td>2973</td>\n",
       "      <td>12268</td>\n",
       "      <td>11664</td>\n",
       "      <td>GROCERY STORE</td>\n",
       "      <td>3057</td>\n",
       "      <td>id-11235901</td>\n",
       "      <td>id_1890134</td>\n",
       "      <td>81862.0</td>\n",
       "      <td>COMPLAINT</td>\n",
       "      <td>33.0</td>\n",
       "      <td>High</td>\n",
       "      <td>locid878</td>\n",
       "      <td>4</td>\n",
       "    </tr>\n",
       "    <tr>\n",
       "      <th>2</th>\n",
       "      <td>40148966010272</td>\n",
       "      <td>01-05-2013</td>\n",
       "      <td>18223</td>\n",
       "      <td>1112</td>\n",
       "      <td>969</td>\n",
       "      <td>RESTAURANT</td>\n",
       "      <td>14988</td>\n",
       "      <td>id-11235901</td>\n",
       "      <td>id_1890134</td>\n",
       "      <td>81883.0</td>\n",
       "      <td>CANVASS</td>\n",
       "      <td>NaN</td>\n",
       "      <td>High</td>\n",
       "      <td>locid3368</td>\n",
       "      <td>6</td>\n",
       "    </tr>\n",
       "    <tr>\n",
       "      <th>3</th>\n",
       "      <td>37157708563676</td>\n",
       "      <td>28-09-2015</td>\n",
       "      <td>20825</td>\n",
       "      <td>20007</td>\n",
       "      <td>19115</td>\n",
       "      <td>RESTAURANT</td>\n",
       "      <td>3661</td>\n",
       "      <td>id-11235901</td>\n",
       "      <td>id_1890134</td>\n",
       "      <td>81859.0</td>\n",
       "      <td>CANVASS RE-INSPECTION</td>\n",
       "      <td>31.0</td>\n",
       "      <td>Medium</td>\n",
       "      <td>locid11839</td>\n",
       "      <td>4</td>\n",
       "    </tr>\n",
       "    <tr>\n",
       "      <th>4</th>\n",
       "      <td>47478049564374</td>\n",
       "      <td>09-12-2015</td>\n",
       "      <td>2136</td>\n",
       "      <td>16867</td>\n",
       "      <td>10409</td>\n",
       "      <td>RESTAURANT</td>\n",
       "      <td>7876</td>\n",
       "      <td>id-11235901</td>\n",
       "      <td>id_1890134</td>\n",
       "      <td>81886.0</td>\n",
       "      <td>COMPLAINT</td>\n",
       "      <td>30.0</td>\n",
       "      <td>High</td>\n",
       "      <td>locid12264</td>\n",
       "      <td>4</td>\n",
       "    </tr>\n",
       "  </tbody>\n",
       "</table>\n",
       "</div>"
      ],
      "text/plain": [
       "               ID        Date  LicenseNo  FacilityID  FacilityName  \\\n",
       "0  31103489027986  26-04-2010       4744        8123          7715   \n",
       "1  10088999935915  21-06-2009       2973       12268         11664   \n",
       "2  40148966010272  01-05-2013      18223        1112           969   \n",
       "3  37157708563676  28-09-2015      20825       20007         19115   \n",
       "4  47478049564374  09-12-2015       2136       16867         10409   \n",
       "\n",
       "            Type  Street         City       State  LocationID  \\\n",
       "0     RESTAURANT   15522  id-11235901  id_1890134     81876.0   \n",
       "1  GROCERY STORE    3057  id-11235901  id_1890134     81862.0   \n",
       "2     RESTAURANT   14988  id-11235901  id_1890134     81883.0   \n",
       "3     RESTAURANT    3661  id-11235901  id_1890134     81859.0   \n",
       "4     RESTAURANT    7876  id-11235901  id_1890134     81886.0   \n",
       "\n",
       "                  Reason  SectionViolations RiskLevel     Geo_Loc  \\\n",
       "0                CANVASS               33.0      High  locid16406   \n",
       "1              COMPLAINT               33.0      High    locid878   \n",
       "2                CANVASS                NaN      High   locid3368   \n",
       "3  CANVASS RE-INSPECTION               31.0    Medium  locid11839   \n",
       "4              COMPLAINT               30.0      High  locid12264   \n",
       "\n",
       "   Inspection_Results  \n",
       "0                   4  \n",
       "1                   4  \n",
       "2                   6  \n",
       "3                   4  \n",
       "4                   4  "
      ]
     },
     "execution_count": 2,
     "metadata": {},
     "output_type": "execute_result"
    }
   ],
   "source": [
    "train_data = pd.read_excel(r'C:\\Users\\Adam\\Desktop\\Food Quality\\data\\Data_Train.xlsx', sheet_name=0)\n",
    "test_data = pd.read_excel(r'C:\\Users\\Adam\\Desktop\\Food Quality\\data\\Data_Test.xlsx', sheet_name=0)\n",
    "\n",
    "train_data.head()"
   ]
  },
  {
   "cell_type": "code",
   "execution_count": 3,
   "metadata": {},
   "outputs": [],
   "source": [
    "train_data.columns = train_data.columns.str.lower()"
   ]
  },
  {
   "cell_type": "code",
   "execution_count": 4,
   "metadata": {},
   "outputs": [
    {
     "name": "stdout",
     "output_type": "stream",
     "text": [
      "<class 'pandas.core.frame.DataFrame'>\n",
      "RangeIndex: 147443 entries, 0 to 147442\n",
      "Data columns (total 15 columns):\n",
      "id                    147443 non-null int64\n",
      "date                  147443 non-null object\n",
      "licenseno             147443 non-null int64\n",
      "facilityid            147443 non-null int64\n",
      "facilityname          147443 non-null int64\n",
      "type                  143958 non-null object\n",
      "street                147443 non-null int64\n",
      "city                  147443 non-null object\n",
      "state                 147443 non-null object\n",
      "locationid            147408 non-null float64\n",
      "reason                147443 non-null object\n",
      "sectionviolations     108375 non-null float64\n",
      "risklevel             147443 non-null object\n",
      "geo_loc               147443 non-null object\n",
      "inspection_results    147443 non-null int64\n",
      "dtypes: float64(2), int64(6), object(7)\n",
      "memory usage: 16.9+ MB\n"
     ]
    }
   ],
   "source": [
    "train_data.info()"
   ]
  },
  {
   "cell_type": "code",
   "execution_count": 5,
   "metadata": {},
   "outputs": [
    {
     "data": {
      "text/plain": [
       "<matplotlib.axes._subplots.AxesSubplot at 0x1ab9443a7b8>"
      ]
     },
     "execution_count": 5,
     "metadata": {},
     "output_type": "execute_result"
    },
    {
     "data": {
      "image/png": "[encoded data removed]",
      "text/plain": [
       "<Figure size 432x288 with 1 Axes>"
      ]
     },
     "metadata": {
      "needs_background": "light"
     },
     "output_type": "display_data"
    }
   ],
   "source": [
    "#classes are highly imbalanced, if trained a basic model it predicts class : 4 often\n",
    "train_data.inspection_results.value_counts().plot(kind='barh')"
   ]
  },
  {
   "cell_type": "code",
   "execution_count": 6,
   "metadata": {
    "scrolled": false
   },
   "outputs": [
    {
     "data": {
      "text/plain": [
       "CANVASS                                   18422\n",
       "LICENSE                                    7548\n",
       "CANVASS RE-INSPECTION                      4376\n",
       "LICENSE RE-INSPECTION                      3881\n",
       "COMPLAINT RE-INSPECTION                    1615\n",
       "SHORT FORM COMPLAINT                       1362\n",
       "COMPLAINT                                   828\n",
       "LICENSE-TASK FORCE                          226\n",
       "OUT OF BUSINESS                             220\n",
       "CONSULTATION                                201\n",
       "TASK FORCE LIQUOR 1475                      116\n",
       "TAG REMOVAL                                  84\n",
       "RECENT INSPECTION                            67\n",
       "SUSPECTED FOOD POISONING RE-INSPECTION       36\n",
       "SHORT FORM FIRE-COMPLAINT                    35\n",
       "COMPLAINT-FIRE                               27\n",
       "SUSPECTED FOOD POISONING                     24\n",
       "Name: reason, dtype: int64"
      ]
     },
     "execution_count": 6,
     "metadata": {},
     "output_type": "execute_result"
    }
   ],
   "source": [
    "train_data[train_data['sectionviolations'].isnull()]['reason'].value_counts()"
   ]
  },
  {
   "cell_type": "code",
   "execution_count": 7,
   "metadata": {},
   "outputs": [
    {
     "data": {
      "text/plain": [
       "CANVASS                                   77943\n",
       "LICENSE                                   19645\n",
       "CANVASS RE-INSPECTION                     15705\n",
       "COMPLAINT                                 13572\n",
       "LICENSE RE-INSPECTION                      6796\n",
       "COMPLAINT RE-INSPECTION                    5655\n",
       "SHORT FORM COMPLAINT                       5094\n",
       "SUSPECTED FOOD POISONING                    631\n",
       "CONSULTATION                                503\n",
       "TAG REMOVAL                                 456\n",
       "LICENSE-TASK FORCE                          444\n",
       "RECENT INSPECTION                           248\n",
       "OUT OF BUSINESS                             220\n",
       "TASK FORCE LIQUOR 1475                      187\n",
       "SUSPECTED FOOD POISONING RE-INSPECTION      147\n",
       "COMPLAINT-FIRE                              120\n",
       "SHORT FORM FIRE-COMPLAINT                    77\n",
       "Name: reason, dtype: int64"
      ]
     },
     "execution_count": 7,
     "metadata": {},
     "output_type": "execute_result"
    }
   ],
   "source": [
    "train_data.reason.value_counts()"
   ]
  },
  {
   "cell_type": "code",
   "execution_count": 81,
   "metadata": {
    "scrolled": true
   },
   "outputs": [
    {
     "data": {
      "text/plain": [
       "OUT OF BUSINESS                           100.000000\n",
       "TASK FORCE LIQUOR 1475                     62.032086\n",
       "LICENSE RE-INSPECTION                      57.107122\n",
       "LICENSE-TASK FORCE                         50.900901\n",
       "SHORT FORM FIRE-COMPLAINT                  45.454545\n",
       "CONSULTATION                               39.960239\n",
       "LICENSE                                    38.421990\n",
       "COMPLAINT RE-INSPECTION                    28.558798\n",
       "CANVASS RE-INSPECTION                      27.863738\n",
       "RECENT INSPECTION                          27.016129\n",
       "SHORT FORM COMPLAINT                       26.737338\n",
       "SUSPECTED FOOD POISONING RE-INSPECTION     24.489796\n",
       "CANVASS                                    23.635221\n",
       "COMPLAINT-FIRE                             22.500000\n",
       "TAG REMOVAL                                18.421053\n",
       "COMPLAINT                                   6.100796\n",
       "SUSPECTED FOOD POISONING                    3.803487\n",
       "Name: reason, dtype: float64"
      ]
     },
     "execution_count": 81,
     "metadata": {},
     "output_type": "execute_result"
    }
   ],
   "source": [
    "(train_data[train_data['sectionviolations'].isnull()]['reason'].value_counts() / train_data.reason.value_counts() *100).sort_values(ascending=False)"
   ]
  },
  {
   "cell_type": "code",
   "execution_count": 82,
   "metadata": {},
   "outputs": [
    {
     "name": "stdout",
     "output_type": "stream",
     "text": [
      "<class 'pandas.core.frame.DataFrame'>\n",
      "RangeIndex: 147443 entries, 0 to 147442\n",
      "Data columns (total 15 columns):\n",
      "id                    147443 non-null int64\n",
      "date                  147443 non-null object\n",
      "licenseno             147443 non-null int64\n",
      "facilityid            147443 non-null int64\n",
      "facilityname          147443 non-null int64\n",
      "type                  143958 non-null object\n",
      "street                147443 non-null int64\n",
      "city                  147443 non-null object\n",
      "state                 147443 non-null object\n",
      "locationid            147408 non-null float64\n",
      "reason                147443 non-null object\n",
      "sectionviolations     108375 non-null float64\n",
      "risklevel             147443 non-null object\n",
      "geo_loc               147443 non-null object\n",
      "inspection_results    147443 non-null int64\n",
      "dtypes: float64(2), int64(6), object(7)\n",
      "memory usage: 16.9+ MB\n"
     ]
    }
   ],
   "source": [
    "df = train_data.copy()\n",
    "df.info()"
   ]
  },
  {
   "cell_type": "code",
   "execution_count": 83,
   "metadata": {},
   "outputs": [
    {
     "data": {
      "text/plain": [
       "147443"
      ]
     },
     "execution_count": 83,
     "metadata": {},
     "output_type": "execute_result"
    }
   ],
   "source": [
    "len(df)"
   ]
  },
  {
   "cell_type": "code",
   "execution_count": 84,
   "metadata": {},
   "outputs": [
    {
     "data": {
      "text/plain": [
       "39068"
      ]
     },
     "execution_count": 84,
     "metadata": {},
     "output_type": "execute_result"
    }
   ],
   "source": [
    "df.sectionviolations.isna().sum()"
   ]
  },
  {
   "cell_type": "code",
   "execution_count": 85,
   "metadata": {},
   "outputs": [
    {
     "data": {
      "text/plain": [
       "Index(['id', 'date', 'licenseno', 'facilityid', 'facilityname', 'type',\n",
       "       'street', 'city', 'state', 'locationid', 'reason', 'sectionviolations',\n",
       "       'risklevel', 'geo_loc', 'inspection_results'],\n",
       "      dtype='object')"
      ]
     },
     "execution_count": 85,
     "metadata": {},
     "output_type": "execute_result"
    }
   ],
   "source": [
    "df.columns"
   ]
  },
  {
   "cell_type": "code",
   "execution_count": 86,
   "metadata": {
    "scrolled": true
   },
   "outputs": [],
   "source": [
    "indexes = df.loc[pd.to_datetime(df.date, format = '%d-%m-%Y', errors='coerce').isna()].index\n",
    "for i in indexes:\n",
    "    df.iloc[i,1] = df.iloc[i,1].replace('29-02','01-03')"
   ]
  },
  {
   "cell_type": "code",
   "execution_count": 87,
   "metadata": {},
   "outputs": [],
   "source": [
    "df['date'] = pd.to_datetime(df.date, format='%d-%m-%Y')"
   ]
  },
  {
   "cell_type": "code",
   "execution_count": 88,
   "metadata": {},
   "outputs": [],
   "source": [
    "df['year'] = df.date.dt.year\n",
    "df['month'] = df.date.dt.month\n",
    "df['day'] = df.date.dt.day"
   ]
  },
  {
   "cell_type": "code",
   "execution_count": 89,
   "metadata": {},
   "outputs": [
    {
     "name": "stdout",
     "output_type": "stream",
     "text": [
      "<class 'pandas.core.frame.DataFrame'>\n",
      "RangeIndex: 147443 entries, 0 to 147442\n",
      "Data columns (total 18 columns):\n",
      "id                    147443 non-null int64\n",
      "date                  147443 non-null datetime64[ns]\n",
      "licenseno             147443 non-null int64\n",
      "facilityid            147443 non-null int64\n",
      "facilityname          147443 non-null int64\n",
      "type                  143958 non-null object\n",
      "street                147443 non-null int64\n",
      "city                  147443 non-null object\n",
      "state                 147443 non-null object\n",
      "locationid            147408 non-null float64\n",
      "reason                147443 non-null object\n",
      "sectionviolations     108375 non-null float64\n",
      "risklevel             147443 non-null object\n",
      "geo_loc               147443 non-null object\n",
      "inspection_results    147443 non-null int64\n",
      "year                  147443 non-null int64\n",
      "month                 147443 non-null int64\n",
      "day                   147443 non-null int64\n",
      "dtypes: datetime64[ns](1), float64(2), int64(9), object(6)\n",
      "memory usage: 20.2+ MB\n"
     ]
    }
   ],
   "source": [
    "df.info()"
   ]
  },
  {
   "cell_type": "code",
   "execution_count": 90,
   "metadata": {},
   "outputs": [],
   "source": [
    "df['type'] = df.groupby('facilityname')['type'].ffill()\n",
    "df['type'] = df.groupby('facilityname')['type'].bfill()\n",
    "\n",
    "df['type'] = df.type.fillna(\"UNKOWN\")"
   ]
  },
  {
   "cell_type": "code",
   "execution_count": 91,
   "metadata": {},
   "outputs": [],
   "source": [
    "df.loc[(df.type.str.lower().str.contains('care')) | (df.type.str.lower().str.contains('livi')),'type'] = 'CARE CENTERS'\n",
    "df.loc[df.type.str.lower().str.contains('mobil'), 'type'] = 'MOBILE FOOD VENDOR'\n",
    "df.loc[df.type.str.lower().str.contains('hospital'), 'type'] = 'HOSPITAL'\n",
    "df.loc[df.type.str.lower().str.contains('banquet'), 'type'] = 'BANQUET'\n",
    "df.loc[(df.type.str.lower().str.contains('rest')) | (df.type.str.lower().str.contains('roof')), 'type'] = 'RESTAURANT'\n",
    "df.loc[(df.type.str.lower().str.contains('cafe')) | (df.type.str.lower().str.contains('coffee')), 'type'] = 'CAFE'\n",
    "df.loc[(df.type.str.lower().str.contains('liq')) | (df.type.str.lower().str.contains('bar')) , 'type'] = 'BAR'\n",
    "df.loc[(df.type.str.lower().str.contains('kiosk'))|(df.type.str.lower().str.contains('froze'))\n",
    "       | (df.type.str.lower().str.contains('food')), 'type'] = 'FOOD VENDING MACHINES'\n",
    "df.loc[df.type.str.lower().str.contains('gas'), 'type'] = 'GAS STATION'\n",
    "df.loc[df.type.str.lower().str.contains('grocery'), 'type'] = 'GROCERY'\n",
    "df.loc[df.type.str.lower().str.contains('school'), 'type'] = 'SCHOOL'\n",
    "df.loc[df.type.str.lower().str.contains('kitch'), 'type'] = 'SHARED KITCHEN'\n",
    "df.loc[df.type.str.lower().str.contains('conv'), 'type'] = 'CONVENIENCE STORES'\n",
    "df.loc[df.type.str.lower().str.contains('prof'), 'type'] = 'NON PROFITS'\n",
    "df.loc[df.type.str.lower().str.contains('theat'), 'type'] = 'THEATER'\n",
    "df.loc[df.type.str.lower().str.contains('poul'), 'type'] = 'POULTRY'\n",
    "\n",
    "lst = ['RESTAURANT', 'GROCERY', 'SCHOOL', 'CARE CENTERS', 'UNKOWN', 'BAKERY', \n",
    "       'FOOD VENDING MACHINES', 'CATERING', 'BAR', 'HOSPITAL', 'GOLDEN DINER', \n",
    "       'WHOLESALE', 'SHARED KITCHEN', 'BANQUET', 'TAVERN', 'GAS STATION', 'SPECIAL EVENT', \n",
    "       'CAFE', 'CONVENIENCE STORES', 'POULTRY', 'SHELTER', 'THEATER', 'STADIUM', 'STORE', \n",
    "       'ICE CREAM SHOP']\n",
    "df.loc[~df.type.isin(lst),'type'] = 'OTHER OUTLETS'"
   ]
  },
  {
   "cell_type": "code",
   "execution_count": 92,
   "metadata": {},
   "outputs": [],
   "source": [
    "df['city'] = df.city.str.replace(r'[^0-9]','').astype('int')\n",
    "df['state'] = df.state.str.replace(r'[^0-9]','').astype('int')\n",
    "\n",
    "df['geo_loc'] = df.geo_loc.str.replace(r'[a-zA-Z]','').astype('int')"
   ]
  },
  {
   "cell_type": "code",
   "execution_count": 93,
   "metadata": {
    "scrolled": true
   },
   "outputs": [],
   "source": [
    "#df['sectionviolations'].fillna(df.groupby('facilityname')['sectionviolations'].agg(pd.Series.mode),\n",
    "                                                        #inplace=True)\n",
    "#df['sectionviolations'].fillna(df.groupby('reason')['sectionviolations'].agg(pd.Series.mode),\n",
    "                                                        #inplace=True)"
   ]
  },
  {
   "cell_type": "code",
   "execution_count": 94,
   "metadata": {},
   "outputs": [
    {
     "data": {
      "text/plain": [
       "<matplotlib.axes._subplots.AxesSubplot at 0x1abb6146c50>"
      ]
     },
     "execution_count": 94,
     "metadata": {},
     "output_type": "execute_result"
    },
    {
     "data": {
      "image/png": "[encoded data removed]",
      "text/plain": [
       "<Figure size 1440x1080 with 1 Axes>"
      ]
     },
     "metadata": {
      "needs_background": "light"
     },
     "output_type": "display_data"
    }
   ],
   "source": [
    "#can we impute sectionviolations with mode value of reasons column? \n",
    "plt.figure(figsize=(20,15))\n",
    "plt.xticks(rotation=45)\n",
    "sns.boxplot(x='reason', y='sectionviolations', data=df)"
   ]
  },
  {
   "cell_type": "code",
   "execution_count": 95,
   "metadata": {
    "scrolled": true
   },
   "outputs": [],
   "source": [
    "df = df[['year','month','day', 'licenseno', 'facilityid', 'facilityname', 'type', 'street', 'city', \n",
    "         'state', 'locationid', 'reason', 'risklevel', 'geo_loc', \n",
    "         'inspection_results']]"
   ]
  },
  {
   "cell_type": "code",
   "execution_count": 115,
   "metadata": {},
   "outputs": [
    {
     "name": "stdout",
     "output_type": "stream",
     "text": [
      "<class 'pandas.core.frame.DataFrame'>\n",
      "RangeIndex: 147443 entries, 0 to 147442\n",
      "Data columns (total 15 columns):\n",
      "year                  147443 non-null int64\n",
      "month                 147443 non-null int64\n",
      "day                   147443 non-null int64\n",
      "licenseno             147443 non-null int64\n",
      "facilityid            147443 non-null int64\n",
      "facilityname          147443 non-null int64\n",
      "type                  147443 non-null object\n",
      "street                147443 non-null int64\n",
      "city                  147443 non-null int32\n",
      "state                 147443 non-null int32\n",
      "locationid            147408 non-null float64\n",
      "reason                147443 non-null object\n",
      "risklevel             147443 non-null object\n",
      "geo_loc               147443 non-null int32\n",
      "inspection_results    147443 non-null int64\n",
      "dtypes: float64(1), int32(3), int64(8), object(3)\n",
      "memory usage: 15.2+ MB\n"
     ]
    }
   ],
   "source": [
    "df.info()"
   ]
  },
  {
   "cell_type": "code",
   "execution_count": 106,
   "metadata": {
    "scrolled": true
   },
   "outputs": [
    {
     "data": {
      "text/plain": [
       "High         105708\n",
       "Medium        28736\n",
       "Low           12731\n",
       "Uncertain        21\n",
       "Name: risklevel, dtype: int64"
      ]
     },
     "execution_count": 106,
     "metadata": {},
     "output_type": "execute_result"
    }
   ],
   "source": [
    "df[df.city==11235901]['risklevel'].value_counts()"
   ]
  },
  {
   "cell_type": "code",
   "execution_count": 110,
   "metadata": {
    "scrolled": true
   },
   "outputs": [
    {
     "data": {
      "text/plain": [
       "High         79264\n",
       "Medium       18584\n",
       "Low           1222\n",
       "Uncertain        7\n",
       "Name: risklevel, dtype: int64"
      ]
     },
     "execution_count": 110,
     "metadata": {},
     "output_type": "execute_result"
    }
   ],
   "source": [
    "df[df.type == 'RESTAURANT']['risklevel'].value_counts()"
   ]
  },
  {
   "cell_type": "code",
   "execution_count": 114,
   "metadata": {
    "scrolled": true
   },
   "outputs": [],
   "source": [
    "df.loc[df.risklevel == 'Uncertain', 'risklevel'] = 'High'"
   ]
  },
  {
   "cell_type": "code",
   "execution_count": null,
   "metadata": {},
   "outputs": [],
   "source": []
  }
 ],
 "metadata": {
  "kernelspec": {
   "display_name": "Python 3",
   "language": "python",
   "name": "python3"
  },
  "language_info": {
   "codemirror_mode": {
    "name": "ipython",
    "version": 3
   },
   "file_extension": ".py",
   "mimetype": "text/x-python",
   "name": "python",
   "nbconvert_exporter": "python",
   "pygments_lexer": "ipython3",
   "version": "3.7.3"
  }
 },
 "nbformat": 4,
 "nbformat_minor": 2
}
